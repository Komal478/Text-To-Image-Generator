{
 "cells": [
  {
   "cell_type": "code",
   "execution_count": 1,
   "id": "547136e3-8310-4e7e-9f45-43df0c810af1",
   "metadata": {},
   "outputs": [],
   "source": [
    "from nltk.tokenize import word_tokenize\n",
    "from nltk.stem import WordNetLemmatizer\n",
    "from nltk.corpus import stopwords"
   ]
  },
  {
   "cell_type": "code",
   "execution_count": 2,
   "id": "2dcefeda-fbf7-45d0-bfb2-00757ea089b3",
   "metadata": {},
   "outputs": [],
   "source": [
    "import re"
   ]
  },
  {
   "cell_type": "code",
   "execution_count": null,
   "id": "e0588c85-6df9-490d-b7db-8ea7977c39ce",
   "metadata": {},
   "outputs": [],
   "source": [
    "import nltk"
   ]
  },
  {
   "cell_type": "code",
   "execution_count": null,
   "id": "cce4bc20-1a0a-416f-a2c9-4a658dc24f2a",
   "metadata": {},
   "outputs": [],
   "source": [
    "nltk.download('punkt')\n",
    "nltk.download('wordnet')\n",
    "nltk.download('stopwords')"
   ]
  },
  {
   "cell_type": "code",
   "execution_count": 4,
   "id": "da1ff88c-c313-4fba-9f70-0394764b8891",
   "metadata": {},
   "outputs": [],
   "source": [
    "lemmatizer = WordNetLemmatizer()"
   ]
  },
  {
   "cell_type": "code",
   "execution_count": 3,
   "id": "90d96458-a0d7-4324-8fc6-78f5e4c1b0b8",
   "metadata": {},
   "outputs": [],
   "source": [
    "stop_words = set(stopwords.words(\"english\"))"
   ]
  },
  {
   "cell_type": "code",
   "execution_count": 18,
   "id": "531395b1-88c3-4649-9bf3-5179b69bd140",
   "metadata": {},
   "outputs": [],
   "source": [
    "def preprocess(raw_text):\n",
    "    #step.1\n",
    "    lowercase_text = raw_text.lower()\n",
    "    #step.2 remove punctuation\n",
    "    cleaned_text = re.sub(r\"[^\\w\\s]\", \"\", lowercase_text)\n",
    "    #step.3 tokenize\n",
    "    tokens = word_tokenize(cleaned_text)\n",
    "    #step.4 Remove stopwords\n",
    "    filtered_tokens = [word for word in tokens if word not in stop_words]\n",
    "    #step.5 Lemma\n",
    "    lemmatizer = WordNetLemmatizer()\n",
    "    lemmatized_tokens = [lemmatizer.lemmatize(word) for word in filtered_tokens]\n",
    "    return \" \".join(lemmatized_tokens)"
   ]
  },
  {
   "cell_type": "code",
   "execution_count": 19,
   "id": "c144bbe2-af5e-4ddb-9618-f799ad99a06c",
   "metadata": {},
   "outputs": [],
   "source": [
    "donald_trump = \"\"\"Donald John Trump (born June 14, 1946) is an American politician, media personality, and businessman who is the 47th president of the United States. A member of the Republican Party, he served as the 45th president from 2017 to 2021.\n",
    "\n",
    "Born into a wealthy family in New York City, Trump graduated from the University of Pennsylvania in 1968 with a bachelor's degree in economics. He became the president of his family's real estate business in 1971, renamed it the Trump Organization, and began acquiring and building skyscrapers, hotels, casinos, and golf courses. He launched side ventures, many licensing the Trump name, and filed for six business bankruptcies in the 1990s and 2000s. From 2004 to 2015, he hosted the reality television show The Apprentice, bolstering his fame as a billionaire. Presenting himself as a political outsider, Trump won the 2016 presidential election against Democratic Party nominee Hillary Clinton.\"\"\""
   ]
  },
  {
   "cell_type": "code",
   "execution_count": 20,
   "id": "44663b2c-e917-4824-b948-4e6849f0b9f8",
   "metadata": {},
   "outputs": [
    {
     "name": "stdout",
     "output_type": "stream",
     "text": [
      "donald john trump born june 14 1946 american politician medium personality businessman 47th president united state member republican party served 45th president 2017 2021 born wealthy family new york city trump graduated university pennsylvania 1968 bachelor degree economics became president family real estate business 1971 renamed trump organization began acquiring building skyscraper hotel casino golf course launched side venture many licensing trump name filed six business bankruptcy 1990s 2000s 2004 2015 hosted reality television show apprentice bolstering fame billionaire presenting political outsider trump 2016 presidential election democratic party nominee hillary clinton\n"
     ]
    }
   ],
   "source": [
    "print(preprocess(donald_trump))"
   ]
  },
  {
   "cell_type": "code",
   "execution_count": null,
   "id": "50ee949a-5b3d-4106-bef8-d02f602b7a36",
   "metadata": {},
   "outputs": [],
   "source": []
  }
 ],
 "metadata": {
  "kernelspec": {
   "display_name": "Python 3 (ipykernel)",
   "language": "python",
   "name": "python3"
  },
  "language_info": {
   "codemirror_mode": {
    "name": "ipython",
    "version": 3
   },
   "file_extension": ".py",
   "mimetype": "text/x-python",
   "name": "python",
   "nbconvert_exporter": "python",
   "pygments_lexer": "ipython3",
   "version": "3.13.5"
  }
 },
 "nbformat": 4,
 "nbformat_minor": 5
}
